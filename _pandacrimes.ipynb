{
  "nbformat": 4,
  "nbformat_minor": 0,
  "metadata": {
    "colab": {
      "provenance": [],
      "authorship_tag": "ABX9TyNze5g/fMoT6NroNtw/s5Dj",
      "include_colab_link": true
    },
    "kernelspec": {
      "name": "python3",
      "display_name": "Python 3"
    },
    "language_info": {
      "name": "python"
    }
  },
  "cells": [
    {
      "cell_type": "markdown",
      "metadata": {
        "id": "view-in-github",
        "colab_type": "text"
      },
      "source": [
        "<a href=\"https://colab.research.google.com/github/merkington/horror/blob/main/_pandacrimes.ipynb\" target=\"_parent\"><img src=\"https://colab.research.google.com/assets/colab-badge.svg\" alt=\"Open In Colab\"/></a>"
      ]
    },
    {
      "cell_type": "code",
      "source": [
        "import requests\n",
        "import pandas as pd\n",
        "\n",
        "# Set the API parameters\n",
        "parameters = {\n",
        "    \"lat\": 51.5018,\n",
        "    \"lng\": 0.0910\n",
        "    \n",
        "}\n",
        "\n",
        "# Make a request to the API and get the JSON data\n",
        "response = requests.get(\"https://data.police.uk/api/outcomes-at-location\", params=parameters)\n",
        "data = response.json()\n",
        "# Convert the JSON data to a Pandas DataFrame\n",
        "df = pd.json_normalize(data)\n",
        "df.info()\n",
        "counts = df[\"crime.category\"].value_counts()\n",
        "\n",
        "# Plot the results as a horizontal bar chart\n",
        "counts.plot(kind=\"barh\")\n",
        "plt.xlabel(\"Number of Crimes\")\n",
        "plt.ylabel(\"Crime Type\")\n",
        "plt.title(\"Crimes by Type\")\n",
        "plt.show()\n",
        "\n",
        "\n",
        "\n",
        "\n",
        "\n"
      ],
      "metadata": {
        "colab": {
          "base_uri": "https://localhost:8080/",
          "height": 691
        },
        "id": "sy-aUS6Rc3d6",
        "outputId": "5c96dffb-5227-4ed8-a288-c1da30370f72"
      },
      "execution_count": 70,
      "outputs": [
        {
          "output_type": "stream",
          "name": "stdout",
          "text": [
            "<class 'pandas.core.frame.DataFrame'>\n",
            "RangeIndex: 325 entries, 0 to 324\n",
            "Data columns (total 15 columns):\n",
            " #   Column                      Non-Null Count  Dtype \n",
            "---  ------                      --------------  ----- \n",
            " 0   date                        325 non-null    object\n",
            " 1   person_id                   0 non-null      object\n",
            " 2   category.code               325 non-null    object\n",
            " 3   category.name               325 non-null    object\n",
            " 4   crime.category              325 non-null    object\n",
            " 5   crime.location_type         325 non-null    object\n",
            " 6   crime.location.latitude     325 non-null    object\n",
            " 7   crime.location.street.id    325 non-null    int64 \n",
            " 8   crime.location.street.name  325 non-null    object\n",
            " 9   crime.location.longitude    325 non-null    object\n",
            " 10  crime.context               325 non-null    object\n",
            " 11  crime.persistent_id         325 non-null    object\n",
            " 12  crime.id                    325 non-null    int64 \n",
            " 13  crime.location_subtype      325 non-null    object\n",
            " 14  crime.month                 325 non-null    object\n",
            "dtypes: int64(2), object(13)\n",
            "memory usage: 38.2+ KB\n"
          ]
        },
        {
          "output_type": "display_data",
          "data": {
            "text/plain": [
              "<Figure size 432x288 with 1 Axes>"
            ],
            "image/png": "[encoded data removed]"
          },
          "metadata": {
            "needs_background": "light"
          }
        }
      ]
    },
    {
      "cell_type": "code",
      "source": [],
      "metadata": {
        "id": "La-e4rXfiX2V"
      },
      "execution_count": null,
      "outputs": []
    }
  ]
}