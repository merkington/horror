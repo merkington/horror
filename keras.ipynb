{
  "nbformat": 4,
  "nbformat_minor": 0,
  "metadata": {
    "colab": {
      "provenance": [],
      "name": "keras.ipynb",
      "authorship_tag": "ABX9TyNfK4OCCsbHQ96vqEw5OHuS",
      "include_colab_link": true
    },
    "kernelspec": {
      "name": "python3",
      "display_name": "Python 3"
    },
    "language_info": {
      "name": "python"
    },
    "accelerator": "GPU",
    "gpuClass": "standard"
  },
  "cells": [
    {
      "cell_type": "markdown",
      "metadata": {
        "id": "view-in-github",
        "colab_type": "text"
      },
      "source": [
        "<a href=\"https://colab.research.google.com/github/merkington/horror/blob/main/keras.ipynb\" target=\"_parent\"><img src=\"https://colab.research.google.com/assets/colab-badge.svg\" alt=\"Open In Colab\"/></a>"
      ]
    },
    {
      "cell_type": "code",
      "execution_count": 1,
      "metadata": {
        "colab": {
          "base_uri": "https://localhost:8080/"
        },
        "id": "hC35tPSaTS24",
        "outputId": "5af088d0-313d-4e48-a072-3199db2867e6"
      },
      "outputs": [
        {
          "output_type": "stream",
          "name": "stdout",
          "text": [
            "Epoch 1/10\n",
            "41/41 [==============================] - 6s 4ms/step - loss: 8510816256.0000\n",
            "Epoch 2/10\n",
            "41/41 [==============================] - 0s 4ms/step - loss: 8450299904.0000\n",
            "Epoch 3/10\n",
            "41/41 [==============================] - 0s 3ms/step - loss: 8348251136.0000\n",
            "Epoch 4/10\n",
            "41/41 [==============================] - 0s 4ms/step - loss: 8420225536.0000\n",
            "Epoch 5/10\n",
            "41/41 [==============================] - 0s 3ms/step - loss: 8204366848.0000\n",
            "Epoch 6/10\n",
            "41/41 [==============================] - 0s 4ms/step - loss: 8107043328.0000\n",
            "Epoch 7/10\n",
            "41/41 [==============================] - 0s 4ms/step - loss: 8211087872.0000\n",
            "Epoch 8/10\n",
            "41/41 [==============================] - 0s 4ms/step - loss: 8091774464.0000\n",
            "Epoch 9/10\n",
            "41/41 [==============================] - 0s 4ms/step - loss: 8120639488.0000\n",
            "Epoch 10/10\n",
            "41/41 [==============================] - 0s 3ms/step - loss: 7927471616.0000\n",
            "1/1 [==============================] - 0s 126ms/step\n",
            "[[178546.67]]\n",
            "Here is what I learned: [array([[21843.555]], dtype=float32), array([-39888.87], dtype=float32)]\n",
            "<class 'pandas.core.frame.DataFrame'>\n",
            "Int64Index: 1309 entries, 18 to 32737\n",
            "Data columns (total 14 columns):\n",
            " #   Column       Non-Null Count  Dtype  \n",
            "---  ------       --------------  -----  \n",
            " 0   movie_id     1309 non-null   object \n",
            " 1   movie_name   1309 non-null   object \n",
            " 2   year         1309 non-null   object \n",
            " 3   certificate  1309 non-null   object \n",
            " 4   runtime      1309 non-null   object \n",
            " 5   genre        1309 non-null   object \n",
            " 6   rating       1309 non-null   float64\n",
            " 7   description  1309 non-null   object \n",
            " 8   director     1309 non-null   object \n",
            " 9   director_id  1309 non-null   object \n",
            " 10  star         1309 non-null   object \n",
            " 11  star_id      1309 non-null   object \n",
            " 12  votes        1309 non-null   float64\n",
            " 13  gross        1309 non-null   float64\n",
            "dtypes: float64(3), object(11)\n",
            "memory usage: 153.4+ KB\n"
          ]
        }
      ],
      "source": [
        "import tensorflow as tf\n",
        "import numpy as np\n",
        "import pandas as pd\n",
        "from tensorflow.keras import Sequential \n",
        "from tensorflow.keras.layers import Dense\n",
        "url = \"https://raw.githubusercontent.com/merkington/fffff/main/horror.csv\"\n",
        "\n",
        "# Load film data into pandas DataFrame\n",
        "df = pd.read_csv(url).dropna()\n",
        "df = df.rename(columns={'gross(in $)': 'gross'})\n",
        "df.head()\n",
        "xs = df['rating'].to_numpy(dtype=float, copy=False)\n",
        "ys = df['votes'].to_numpy(dtype=float, copy=False)\n",
        "l0 = Sequential([Dense(units=4, input_shape=[1])])\n",
        "l0 = Dense(units=1, input_shape=[1])\n",
        "model = Sequential([l0])\n",
        "model.compile(optimizer='sgd', loss='mean_squared_error')\n",
        "model.fit(xs, ys, epochs=10)\n",
        "print(model.predict([10.0]))\n",
        "print(\"Here is what I learned: {}\".format(l0.get_weights()))\n",
        "df.head()\n",
        "df.info()"
      ]
    }
  ]
}